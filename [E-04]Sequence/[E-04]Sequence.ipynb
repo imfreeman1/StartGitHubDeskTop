{
 "cells": [
  {
   "cell_type": "code",
   "execution_count": 49,
   "id": "75541b5c",
   "metadata": {},
   "outputs": [
    {
     "name": "stdout",
     "output_type": "stream",
     "text": [
      "['First Citizen:', 'Before we proceed any further, hear me speak.', '', 'All:', 'Speak, speak.', '', 'First Citizen:', 'You are all resolved rather to die than to famish?', '']\n"
     ]
    }
   ],
   "source": [
    "import os, re \n",
    "import numpy as np\n",
    "import tensorflow as tf\n",
    "\n",
    "# 파일을 읽기모드로 열고\n",
    "# 라인 단위로 끊어서 list 형태로 읽어옵니다.\n",
    "file_path = os.getenv('HOME') + '/aiffel/lyricist/data/shakespeare.txt'\n",
    "with open(file_path, \"r\") as f:\n",
    "    raw_corpus = f.read().splitlines()\n",
    "\n",
    "# 앞에서부터 10라인만 화면에 출력해 볼까요?\n",
    "print(raw_corpus[:9])"
   ]
  },
  {
   "cell_type": "code",
   "execution_count": 50,
   "id": "c105dc24",
   "metadata": {},
   "outputs": [
    {
     "name": "stdout",
     "output_type": "stream",
     "text": [
      "Before we proceed any further, hear me speak.\n",
      "Speak, speak.\n",
      "You are all resolved rather to die than to famish?\n"
     ]
    }
   ],
   "source": [
    "for idx, sentence in enumerate(raw_corpus):\n",
    "    if len(sentence) == 0: continue   # 길이가 0인 문장은 건너뜁니다.\n",
    "    if sentence[-1] == \":\": continue  # 문장의 끝이 : 인 문장은 건너뜁니다.\n",
    "\n",
    "    if idx > 9: break   # 일단 문장 10개만 확인해 볼 겁니다.\n",
    "        \n",
    "    print(sentence)"
   ]
  },
  {
   "cell_type": "code",
   "execution_count": 51,
   "id": "d987f643",
   "metadata": {},
   "outputs": [
    {
     "name": "stdout",
     "output_type": "stream",
     "text": [
      "<start> this is sample sentence . <end>\n"
     ]
    }
   ],
   "source": [
    "def preprocess_sentence(sentence):\n",
    "    sentence = sentence.lower().strip() # 1\n",
    "    sentence = re.sub(r\"([?.!,¿])\", r\" \\1 \", sentence) # 2\n",
    "    sentence = re.sub(r'[\" \"]+', \" \", sentence) # 3\n",
    "    sentence = re.sub(r\"[^a-zA-Z?.!,¿]+\", \" \", sentence) # 4\n",
    "    sentence = sentence.strip() # 5\n",
    "    sentence = '<start> ' + sentence + ' <end>' # 6\n",
    "    return sentence\n",
    "\n",
    "# 이 문장이 어떻게 필터링되는지 확인해 보세요.\n",
    "print(preprocess_sentence(\"This @_is ;;;sample        sentence.\"))"
   ]
  },
  {
   "cell_type": "code",
   "execution_count": 63,
   "id": "30d944bc",
   "metadata": {},
   "outputs": [
    {
     "data": {
      "text/plain": [
       "['<start> speak , speak . <end>',\n",
       " '<start> resolved . resolved . <end>',\n",
       " '<start> we know t , we know t . <end>',\n",
       " '<start> is t a verdict ? <end>',\n",
       " '<start> one word , good citizens . <end>',\n",
       " '<start> come , come . <end>',\n",
       " '<start> soft ! who comes here ? <end>',\n",
       " '<start> the people . <end>',\n",
       " '<start> have strong arms too . <end>',\n",
       " '<start> will you undo yourselves ? <end>']"
      ]
     },
     "execution_count": 63,
     "metadata": {},
     "output_type": "execute_result"
    }
   ],
   "source": [
    "corpus = []\n",
    "\n",
    "for sentence in raw_corpus:\n",
    "    # 우리가 원하지 않는 문장은 건너뜁니다\n",
    "    if len(sentence) == 0: continue\n",
    "    if sentence[-1] == \":\": continue\n",
    "    if len(sentence) > 30: continue\n",
    "    \n",
    "    # 정제를 하고 담아주세요\n",
    "    preprocessed_sentence = preprocess_sentence(sentence)\n",
    "    corpus.append(preprocessed_sentence)\n",
    "        \n",
    "# 정제된 결과를 10개만 확인해보죠\n",
    "corpus[:10]"
   ]
  },
  {
   "cell_type": "code",
   "execution_count": 64,
   "id": "5f705f33",
   "metadata": {},
   "outputs": [
    {
     "name": "stdout",
     "output_type": "stream",
     "text": [
      "[[   2   85    5 ...    0    0    0]\n",
      " [   2  554    4 ...    0    0    0]\n",
      " [   2   45   70 ...    0    0    0]\n",
      " ...\n",
      " [   2   13   99 ...    0    0    0]\n",
      " [   2   92 1115 ...    0    0    0]\n",
      " [   2 2507   40 ...    0    0    0]] <keras_preprocessing.text.Tokenizer object at 0x7fbb5c2a1160>\n"
     ]
    }
   ],
   "source": [
    "def tokenize(corpus):\n",
    "    # 7000단어를 기억할 수 있는 tokenizer를 만들겁니다\n",
    "    # 우리는 이미 문장을 정제했으니 filters가 필요없어요\n",
    "    # 7000단어에 포함되지 못한 단어는 '<unk>'로 바꿀거에요\n",
    "    tokenizer = tf.keras.preprocessing.text.Tokenizer(\n",
    "        num_words=18000, \n",
    "        filters=' ',\n",
    "        oov_token=\"<unk>\"\n",
    "    )\n",
    "    # corpus를 이용해 tokenizer 내부의 단어장을 완성합니다\n",
    "    tokenizer.fit_on_texts(corpus)\n",
    "    # 준비한 tokenizer를 이용해 corpus를 Tensor로 변환합니다\n",
    "    tensor = tokenizer.texts_to_sequences(corpus)   \n",
    "    # 입력 데이터의 시퀀스 길이를 일정하게 맞춰줍니다\n",
    "    # 만약 시퀀스가 짧다면 문장 뒤에 패딩을 붙여 길이를 맞춰줍니다.\n",
    "    # 문장 앞에 패딩을 붙여 길이를 맞추고 싶다면 padding='pre'를 사용합니다\n",
    "    tensor = tf.keras.preprocessing.sequence.pad_sequences(tensor, padding='post')  \n",
    "    \n",
    "    print(tensor,tokenizer)\n",
    "    return tensor, tokenizer\n",
    "\n",
    "tensor, tokenizer = tokenize(corpus)"
   ]
  },
  {
   "cell_type": "code",
   "execution_count": 65,
   "id": "0619b318",
   "metadata": {},
   "outputs": [
    {
     "name": "stdout",
     "output_type": "stream",
     "text": [
      "1 : <unk>\n",
      "2 : <start>\n",
      "3 : <end>\n",
      "4 : .\n",
      "5 : ,\n",
      "6 : ?\n",
      "7 : i\n",
      "8 : !\n",
      "9 : you\n",
      "10 : the\n"
     ]
    }
   ],
   "source": [
    "for idx in tokenizer.index_word:\n",
    "    print(idx, \":\", tokenizer.index_word[idx])\n",
    "\n",
    "    if idx >= 10: break"
   ]
  },
  {
   "cell_type": "code",
   "execution_count": 66,
   "id": "5c974407",
   "metadata": {},
   "outputs": [
    {
     "name": "stdout",
     "output_type": "stream",
     "text": [
      "[ 2 85  5 85  4  3  0  0  0  0  0  0  0]\n",
      "[85  5 85  4  3  0  0  0  0  0  0  0  0]\n"
     ]
    }
   ],
   "source": [
    "src_input = tensor[:, :-1]  \n",
    "# tensor에서 <start>를 잘라내서 타겟 문장을 생성합니다.\n",
    "tgt_input = tensor[:, 1:]    \n",
    "\n",
    "print(src_input[0])\n",
    "print(tgt_input[0])"
   ]
  },
  {
   "cell_type": "code",
   "execution_count": 67,
   "id": "ea33d64a",
   "metadata": {},
   "outputs": [
    {
     "data": {
      "text/plain": [
       "<BatchDataset shapes: ((256, 13), (256, 13)), types: (tf.int32, tf.int32)>"
      ]
     },
     "execution_count": 67,
     "metadata": {},
     "output_type": "execute_result"
    }
   ],
   "source": [
    "BUFFER_SIZE = len(src_input)\n",
    "BATCH_SIZE = 256\n",
    "steps_per_epoch = len(src_input) // BATCH_SIZE\n",
    "\n",
    " # tokenizer가 구축한 단어사전 내 7000개와, 여기 포함되지 않은 0:<pad>를 포함하여 7001개\n",
    "VOCAB_SIZE = tokenizer.num_words + 1   \n",
    "\n",
    "# 준비한 데이터 소스로부터 데이터셋을 만듭니다\n",
    "# 데이터셋에 대해서는 아래 문서를 참고하세요\n",
    "# 자세히 알아둘수록 도움이 많이 되는 중요한 문서입니다\n",
    "# https://www.tensorflow.org/api_docs/python/tf/data/Dataset\n",
    "dataset = tf.data.Dataset.from_tensor_slices((src_input, tgt_input))\n",
    "dataset = dataset.shuffle(BUFFER_SIZE)\n",
    "dataset = dataset.batch(BATCH_SIZE, drop_remainder=True)\n",
    "dataset"
   ]
  },
  {
   "cell_type": "code",
   "execution_count": 68,
   "id": "15175501",
   "metadata": {},
   "outputs": [],
   "source": [
    "class TextGenerator(tf.keras.Model):\n",
    "    def __init__(self, vocab_size, embedding_size, hidden_size):\n",
    "        super().__init__()\n",
    "        \n",
    "        self.embedding = tf.keras.layers.Embedding(vocab_size, embedding_size)\n",
    "        self.rnn_1 = tf.keras.layers.LSTM(hidden_size, return_sequences=True)\n",
    "        self.rnn_2 = tf.keras.layers.LSTM(hidden_size, return_sequences=True)\n",
    "        self.linear = tf.keras.layers.Dense(vocab_size)\n",
    "        \n",
    "    def call(self, x):\n",
    "        out = self.embedding(x)\n",
    "        out = self.rnn_1(out)\n",
    "        out = self.rnn_2(out)\n",
    "        out = self.linear(out)\n",
    "        \n",
    "        return out\n",
    "    \n",
    "embedding_size = 256\n",
    "hidden_size = 1024\n",
    "model = TextGenerator(tokenizer.num_words + 1, embedding_size , hidden_size)"
   ]
  },
  {
   "cell_type": "code",
   "execution_count": 58,
   "id": "d6fa74a3",
   "metadata": {},
   "outputs": [
    {
     "data": {
      "text/plain": [
       "<tf.Tensor: shape=(256, 9, 18001), dtype=float32, numpy=\n",
       "array([[[ 6.84684128e-05,  1.86212870e-04,  1.74469125e-04, ...,\n",
       "          1.45813057e-04, -9.73324422e-05,  1.12704525e-04],\n",
       "        [ 7.02266625e-05,  4.08741733e-04,  1.57959454e-04, ...,\n",
       "          2.46080075e-04, -1.34927497e-04,  2.51455291e-04],\n",
       "        [-7.03496562e-06,  7.98054389e-04,  4.39115713e-04, ...,\n",
       "          4.45217709e-04, -1.67473030e-04,  2.92879384e-04],\n",
       "        ...,\n",
       "        [-2.08977493e-04,  1.24841882e-03,  1.42491853e-03, ...,\n",
       "          3.34338314e-04,  1.04784640e-03,  2.46391702e-03],\n",
       "        [-2.99755920e-04,  1.31006364e-03,  1.64817006e-03, ...,\n",
       "          2.46683107e-04,  1.30798435e-03,  2.93986010e-03],\n",
       "        [-4.00110759e-04,  1.37711735e-03,  1.85169652e-03, ...,\n",
       "          1.58774303e-04,  1.51947245e-03,  3.33466171e-03]],\n",
       "\n",
       "       [[ 6.84684128e-05,  1.86212870e-04,  1.74469125e-04, ...,\n",
       "          1.45813057e-04, -9.73324422e-05,  1.12704525e-04],\n",
       "        [ 1.23662554e-04,  1.52607332e-04,  2.99572945e-04, ...,\n",
       "          1.38131421e-04, -8.20717905e-05,  1.55231275e-04],\n",
       "        [ 2.60183064e-04,  7.67415331e-05,  4.47613798e-04, ...,\n",
       "          2.89135816e-04,  1.22476747e-04,  9.83980935e-05],\n",
       "        ...,\n",
       "        [ 9.09101684e-04,  7.21250544e-05,  1.09384523e-03, ...,\n",
       "          7.26807048e-04,  9.39888181e-04,  7.47854880e-04],\n",
       "        [ 8.43915390e-04,  2.34613894e-04,  1.26023544e-03, ...,\n",
       "          6.29465561e-04,  1.28529943e-03,  1.40693656e-03],\n",
       "        [ 7.17071292e-04,  4.04695835e-04,  1.43102754e-03, ...,\n",
       "          5.10706450e-04,  1.57985953e-03,  2.04114779e-03]],\n",
       "\n",
       "       [[ 6.84684128e-05,  1.86212870e-04,  1.74469125e-04, ...,\n",
       "          1.45813057e-04, -9.73324422e-05,  1.12704525e-04],\n",
       "        [ 4.19497155e-05,  4.41999320e-04,  4.23438381e-04, ...,\n",
       "          2.85469956e-04, -1.59804709e-04, -5.11554463e-05],\n",
       "        [-6.55256517e-05,  6.81778765e-04,  4.37391020e-04, ...,\n",
       "          3.38039390e-04, -3.87153035e-04, -9.11074221e-06],\n",
       "        ...,\n",
       "        [-1.60915399e-04,  5.57220075e-04,  6.89966197e-04, ...,\n",
       "          9.38639394e-04,  1.14920558e-05,  1.75948444e-05],\n",
       "        [-1.96591893e-04,  7.07868894e-04,  8.49652337e-04, ...,\n",
       "          1.03432790e-03,  2.86371476e-04,  4.62259661e-04],\n",
       "        [-2.26419652e-04,  8.23509065e-04,  9.98600852e-04, ...,\n",
       "          1.01497932e-03,  6.37611665e-04,  1.07345358e-03]],\n",
       "\n",
       "       ...,\n",
       "\n",
       "       [[ 6.84684128e-05,  1.86212870e-04,  1.74469125e-04, ...,\n",
       "          1.45813057e-04, -9.73324422e-05,  1.12704525e-04],\n",
       "        [ 1.00567333e-04,  1.02975006e-04,  1.23588543e-04, ...,\n",
       "          2.03683274e-04,  4.17166011e-05,  3.02196073e-04],\n",
       "        [-3.09959869e-05,  1.09896406e-04,  1.50008476e-04, ...,\n",
       "          1.55929025e-04, -1.66873288e-04,  3.95549199e-04],\n",
       "        ...,\n",
       "        [-1.45389655e-04,  3.55066673e-04,  1.00310298e-03, ...,\n",
       "          8.04973184e-04,  6.18506601e-05,  7.06658291e-04],\n",
       "        [-9.92018904e-05,  4.57413087e-04,  1.19510910e-03, ...,\n",
       "          7.38584611e-04,  4.06959560e-04,  1.15307898e-03],\n",
       "        [-7.92773935e-05,  5.52339305e-04,  1.37359556e-03, ...,\n",
       "          6.24430249e-04,  7.55085377e-04,  1.66041474e-03]],\n",
       "\n",
       "       [[ 6.84684128e-05,  1.86212870e-04,  1.74469125e-04, ...,\n",
       "          1.45813057e-04, -9.73324422e-05,  1.12704525e-04],\n",
       "        [ 8.06347743e-05,  3.36833269e-04,  1.84535864e-04, ...,\n",
       "          1.08386448e-04,  2.33179544e-05,  2.28261866e-04],\n",
       "        [ 3.09097086e-04, -1.13055157e-05,  1.41344630e-04, ...,\n",
       "          2.15187407e-04,  4.97030269e-05,  1.30942077e-04],\n",
       "        ...,\n",
       "        [ 2.68756616e-04,  3.56012140e-04,  9.21052531e-04, ...,\n",
       "          3.41244042e-04,  9.73151822e-04,  1.58024742e-03],\n",
       "        [ 1.55502843e-04,  4.86681936e-04,  1.13246823e-03, ...,\n",
       "          2.45161005e-04,  1.26583630e-03,  2.16558995e-03],\n",
       "        [ 1.94957793e-05,  6.29945309e-04,  1.34618965e-03, ...,\n",
       "          1.45832164e-04,  1.50787912e-03,  2.68681906e-03]],\n",
       "\n",
       "       [[ 6.84684128e-05,  1.86212870e-04,  1.74469125e-04, ...,\n",
       "          1.45813057e-04, -9.73324422e-05,  1.12704525e-04],\n",
       "        [ 3.03893088e-04,  4.05966886e-04,  3.71347938e-04, ...,\n",
       "          2.35774947e-04, -2.44999828e-04,  1.21653029e-04],\n",
       "        [ 6.13613694e-04,  6.12566422e-04,  6.77672448e-04, ...,\n",
       "          1.37204566e-04, -2.46679643e-04, -3.23450804e-05],\n",
       "        ...,\n",
       "        [ 3.39485094e-04,  1.45560049e-03,  1.24619680e-03, ...,\n",
       "          3.54712793e-05,  1.99100803e-04,  9.92211630e-04],\n",
       "        [ 2.05185817e-04,  1.48427777e-03,  1.38402823e-03, ...,\n",
       "         -3.00560660e-05,  5.92820637e-04,  1.59632496e-03],\n",
       "        [ 6.04546040e-05,  1.50126172e-03,  1.52658310e-03, ...,\n",
       "         -9.37548684e-05,  9.43727617e-04,  2.15824414e-03]]],\n",
       "      dtype=float32)>"
      ]
     },
     "execution_count": 58,
     "metadata": {},
     "output_type": "execute_result"
    }
   ],
   "source": [
    "for src_sample, tgt_sample in dataset.take(1): break\n",
    "\n",
    "# 한 배치만 불러온 데이터를 모델에 넣어봅니다\n",
    "model(src_sample)"
   ]
  },
  {
   "cell_type": "code",
   "execution_count": 59,
   "id": "f329e7ab",
   "metadata": {},
   "outputs": [
    {
     "name": "stdout",
     "output_type": "stream",
     "text": [
      "Model: \"text_generator_6\"\n",
      "_________________________________________________________________\n",
      "Layer (type)                 Output Shape              Param #   \n",
      "=================================================================\n",
      "embedding_6 (Embedding)      multiple                  4608256   \n",
      "_________________________________________________________________\n",
      "lstm_12 (LSTM)               multiple                  5246976   \n",
      "_________________________________________________________________\n",
      "lstm_13 (LSTM)               multiple                  8392704   \n",
      "_________________________________________________________________\n",
      "dense_6 (Dense)              multiple                  18451025  \n",
      "=================================================================\n",
      "Total params: 36,698,961\n",
      "Trainable params: 36,698,961\n",
      "Non-trainable params: 0\n",
      "_________________________________________________________________\n"
     ]
    }
   ],
   "source": [
    "model.summary()"
   ]
  },
  {
   "cell_type": "code",
   "execution_count": 69,
   "id": "4e716c49",
   "metadata": {},
   "outputs": [
    {
     "name": "stdout",
     "output_type": "stream",
     "text": [
      "Epoch 1/30\n",
      "15/15 [==============================] - 7s 202ms/step - loss: 5.6080\n",
      "Epoch 2/30\n",
      "15/15 [==============================] - 3s 201ms/step - loss: 3.4662\n",
      "Epoch 3/30\n",
      "15/15 [==============================] - 3s 203ms/step - loss: 3.0859\n",
      "Epoch 4/30\n",
      "15/15 [==============================] - 3s 203ms/step - loss: 2.7646\n",
      "Epoch 5/30\n",
      "15/15 [==============================] - 3s 203ms/step - loss: 2.6125\n",
      "Epoch 6/30\n",
      "15/15 [==============================] - 3s 200ms/step - loss: 2.4888\n",
      "Epoch 7/30\n",
      "15/15 [==============================] - 3s 200ms/step - loss: 2.3844\n",
      "Epoch 8/30\n",
      "15/15 [==============================] - 3s 199ms/step - loss: 2.3100\n",
      "Epoch 9/30\n",
      "15/15 [==============================] - 3s 198ms/step - loss: 2.2706\n",
      "Epoch 10/30\n",
      "15/15 [==============================] - 3s 198ms/step - loss: 2.2330\n",
      "Epoch 11/30\n",
      "15/15 [==============================] - 3s 198ms/step - loss: 2.2203\n",
      "Epoch 12/30\n",
      "15/15 [==============================] - 3s 198ms/step - loss: 2.1999\n",
      "Epoch 13/30\n",
      "15/15 [==============================] - 3s 198ms/step - loss: 2.1921\n",
      "Epoch 14/30\n",
      "15/15 [==============================] - 3s 198ms/step - loss: 2.1787\n",
      "Epoch 15/30\n",
      "15/15 [==============================] - 3s 200ms/step - loss: 2.1685\n",
      "Epoch 16/30\n",
      "15/15 [==============================] - 3s 200ms/step - loss: 2.1531\n",
      "Epoch 17/30\n",
      "15/15 [==============================] - 3s 201ms/step - loss: 2.1400\n",
      "Epoch 18/30\n",
      "15/15 [==============================] - 3s 203ms/step - loss: 2.1255\n",
      "Epoch 19/30\n",
      "15/15 [==============================] - 3s 202ms/step - loss: 2.1078\n",
      "Epoch 20/30\n",
      "15/15 [==============================] - 3s 203ms/step - loss: 2.0921\n",
      "Epoch 21/30\n",
      "15/15 [==============================] - 3s 204ms/step - loss: 2.0790\n",
      "Epoch 22/30\n",
      "15/15 [==============================] - 3s 206ms/step - loss: 2.0653\n",
      "Epoch 23/30\n",
      "15/15 [==============================] - 3s 206ms/step - loss: 2.0455\n",
      "Epoch 24/30\n",
      "15/15 [==============================] - 3s 207ms/step - loss: 2.0300\n",
      "Epoch 25/30\n",
      "15/15 [==============================] - 3s 208ms/step - loss: 2.0067\n",
      "Epoch 26/30\n",
      "15/15 [==============================] - 3s 208ms/step - loss: 1.9871\n",
      "Epoch 27/30\n",
      "15/15 [==============================] - 3s 209ms/step - loss: 1.9691\n",
      "Epoch 28/30\n",
      "15/15 [==============================] - 3s 209ms/step - loss: 1.9456\n",
      "Epoch 29/30\n",
      "15/15 [==============================] - 3s 209ms/step - loss: 1.9320\n",
      "Epoch 30/30\n",
      "15/15 [==============================] - 3s 209ms/step - loss: 1.9144\n"
     ]
    },
    {
     "data": {
      "text/plain": [
       "<keras.callbacks.History at 0x7fbbcaf4b9d0>"
      ]
     },
     "execution_count": 69,
     "metadata": {},
     "output_type": "execute_result"
    }
   ],
   "source": [
    "optimizer = tf.keras.optimizers.Adam()\n",
    "loss = tf.keras.losses.SparseCategoricalCrossentropy(\n",
    "    from_logits=True,\n",
    "    reduction='none'\n",
    ")\n",
    "\n",
    "model.compile(loss=loss, optimizer=optimizer)\n",
    "model.fit(dataset, epochs=30)"
   ]
  },
  {
   "cell_type": "code",
   "execution_count": 71,
   "id": "9ca595e3",
   "metadata": {},
   "outputs": [],
   "source": [
    "def generate_text(model, tokenizer, init_sentence=\"<start>\", max_len=20):\n",
    "    # 테스트를 위해서 입력받은 init_sentence도 텐서로 변환합니다\n",
    "    test_input = tokenizer.texts_to_sequences([init_sentence])\n",
    "    test_tensor = tf.convert_to_tensor(test_input, dtype=tf.int64)\n",
    "    end_token = tokenizer.word_index[\"<end>\"]\n",
    "\n",
    "    # 단어 하나씩 예측해 문장을 만듭니다\n",
    "    #    1. 입력받은 문장의 텐서를 입력합니다\n",
    "    #    2. 예측된 값 중 가장 높은 확률인 word index를 뽑아냅니다\n",
    "    #    3. 2에서 예측된 word index를 문장 뒤에 붙입니다\n",
    "    #    4. 모델이 <end>를 예측했거나, max_len에 도달했다면 문장 생성을 마칩니다\n",
    "    while True:\n",
    "        # 1\n",
    "        predict = model(test_tensor) \n",
    "        # 2\n",
    "        predict_word = tf.argmax(tf.nn.softmax(predict, axis=-1), axis=-1)[:, -1] \n",
    "        # 3 \n",
    "        test_tensor = tf.concat([test_tensor, tf.expand_dims(predict_word, axis=0)], axis=-1)\n",
    "        # 4\n",
    "        if predict_word.numpy()[0] == end_token: break\n",
    "        if test_tensor.shape[1] >= max_len: break\n",
    "\n",
    "    generated = \"\"\n",
    "    # tokenizer를 이용해 word index를 단어로 하나씩 변환합니다 \n",
    "    for word_index in test_tensor[0].numpy():\n",
    "        generated += tokenizer.index_word[word_index] + \" \"\n",
    "\n",
    "    return generated"
   ]
  },
  {
   "cell_type": "code",
   "execution_count": 72,
   "id": "718d68f9",
   "metadata": {},
   "outputs": [
    {
     "data": {
      "text/plain": [
       "'<start> he is not , my lord . <end> '"
      ]
     },
     "execution_count": 72,
     "metadata": {},
     "output_type": "execute_result"
    }
   ],
   "source": [
    "generate_text(model, tokenizer, init_sentence=\"<start> he\")"
   ]
  },
  {
   "cell_type": "code",
   "execution_count": 78,
   "id": "681d2762",
   "metadata": {},
   "outputs": [
    {
     "name": "stdout",
     "output_type": "stream",
     "text": [
      "데이터 크기: 187088\n",
      "Examples:\n",
      " [\"Now I've heard there was a secret chord\", 'That David played, and it pleased the Lord', \"But you don't really care for music, do you?\"]\n"
     ]
    }
   ],
   "source": [
    "import glob\n",
    "import os\n",
    "from sklearn.model_selection import train_test_split\n",
    "\n",
    "txt_file_path = os.getenv('HOME')+'/aiffel/lyricist/data/lyrics/*'\n",
    "\n",
    "txt_list = glob.glob(txt_file_path)\n",
    "\n",
    "raw_corpus = []\n",
    "\n",
    "# 여러개의 txt 파일을 모두 읽어서 raw_corpus 에 담습니다.\n",
    "for txt_file in txt_list:\n",
    "    with open(txt_file, \"r\") as f:\n",
    "        raw = f.read().splitlines()\n",
    "        raw_corpus.extend(raw)\n",
    "\n",
    "print(\"데이터 크기:\", len(raw_corpus))\n",
    "print(\"Examples:\\n\", raw_corpus[:3])"
   ]
  },
  {
   "cell_type": "code",
   "execution_count": 80,
   "id": "109723ca",
   "metadata": {},
   "outputs": [
    {
     "name": "stdout",
     "output_type": "stream",
     "text": [
      "Source Train: (3171, 13)\n",
      "Target Train: (3171, 13)\n"
     ]
    }
   ],
   "source": [
    "print(\"Source Train:\", enc_train.shape)\n",
    "print(\"Target Train:\", dec_train.shape)"
   ]
  },
  {
   "cell_type": "code",
   "execution_count": 81,
   "id": "225a8606",
   "metadata": {},
   "outputs": [
    {
     "name": "stdout",
     "output_type": "stream",
     "text": [
      "Now I've heard there was a secret chord\n",
      "That David played, and it pleased the Lord\n",
      "But you don't really care for music, do you?\n",
      "It goes like this\n",
      "The fourth, the fifth\n",
      "The minor fall, the major lift\n",
      "The baffled king composing Hallelujah Hallelujah\n",
      "Hallelujah\n",
      "Hallelujah\n",
      "Hallelujah Your faith was strong but you needed proof\n"
     ]
    }
   ],
   "source": []
  },
  {
   "cell_type": "code",
   "execution_count": 83,
   "id": "36caaa98",
   "metadata": {},
   "outputs": [
    {
     "data": {
      "text/plain": [
       "['<start> it goes like this <end>',\n",
       " '<start> the fourth , the fifth <end>',\n",
       " '<start> the minor fall , the major lift <end>',\n",
       " '<start> hallelujah <end>',\n",
       " '<start> hallelujah <end>',\n",
       " '<start> she tied you <end>',\n",
       " '<start> to a kitchen chair <end>',\n",
       " '<start> hallelujah <end>',\n",
       " '<start> hallelujah <end>',\n",
       " '<start> i don t even know the name <end>']"
      ]
     },
     "execution_count": 83,
     "metadata": {},
     "output_type": "execute_result"
    }
   ],
   "source": [
    "corpus = []\n",
    "\n",
    "for sentence in raw_corpus:\n",
    "    # 우리가 원하지 않는 문장은 건너뜁니다\n",
    "    if len(sentence) == 0: continue\n",
    "    if sentence[-1] == \":\": continue\n",
    "    if len(sentence) > 30: continue\n",
    "    \n",
    "    # 정제를 하고 담아주세요\n",
    "    preprocessed_sentence = preprocess_sentence(sentence)\n",
    "    corpus.append(preprocessed_sentence)\n",
    "        \n",
    "# 정제된 결과를 10개만 확인해보죠\n",
    "corpus[:10]"
   ]
  },
  {
   "cell_type": "code",
   "execution_count": 87,
   "id": "f6f53fbb",
   "metadata": {},
   "outputs": [
    {
     "name": "stdout",
     "output_type": "stream",
     "text": [
      "[[    2    11   262 ...     0     0     0]\n",
      " [    2     7  3145 ...     0     0     0]\n",
      " [    2     7  3997 ...     0     0     0]\n",
      " ...\n",
      " [    2     4    48 ...     0     0     0]\n",
      " [    2     6 14042 ...     0     0     0]\n",
      " [    2     6    43 ...     0     0     0]] <keras_preprocessing.text.Tokenizer object at 0x7fbc5c9cab50>\n"
     ]
    }
   ],
   "source": [
    "tensor, tokenizer = tokenize(corpus)"
   ]
  },
  {
   "cell_type": "code",
   "execution_count": 85,
   "id": "761cf88d",
   "metadata": {},
   "outputs": [
    {
     "name": "stdout",
     "output_type": "stream",
     "text": [
      "1 : <unk>\n",
      "2 : <start>\n",
      "3 : <end>\n",
      "4 : i\n",
      "5 : ,\n",
      "6 : you\n",
      "7 : the\n",
      "8 : and\n",
      "9 : a\n",
      "10 : to\n"
     ]
    }
   ],
   "source": [
    "for idx in tokenizer.index_word:\n",
    "    print(idx, \":\", tokenizer.index_word[idx])\n",
    "\n",
    "    if idx >= 10: break"
   ]
  },
  {
   "cell_type": "code",
   "execution_count": 86,
   "id": "600da85c",
   "metadata": {},
   "outputs": [
    {
     "name": "stdout",
     "output_type": "stream",
     "text": [
      "[  2  11 262  38  49   3   0   0   0   0   0   0   0   0   0   0   0   0\n",
      "   0]\n",
      "[ 11 262  38  49   3   0   0   0   0   0   0   0   0   0   0   0   0   0\n",
      "   0]\n"
     ]
    }
   ],
   "source": [
    "src_input = tensor[:, :-1]  \n",
    "# tensor에서 <start>를 잘라내서 타겟 문장을 생성합니다.\n",
    "tgt_input = tensor[:, 1:]    \n",
    "\n",
    "print(src_input[0])\n",
    "print(tgt_input[0])"
   ]
  },
  {
   "cell_type": "code",
   "execution_count": 88,
   "id": "88ae1c28",
   "metadata": {},
   "outputs": [],
   "source": [
    "enc_train, enc_val, dec_train, dec_val = train_test_split(src_input,tgt_input,\n",
    "                                                          test_size=0.2, \n",
    "                                                         random_state=7)"
   ]
  },
  {
   "cell_type": "code",
   "execution_count": 89,
   "id": "1eacc565",
   "metadata": {},
   "outputs": [
    {
     "data": {
      "text/plain": [
       "<BatchDataset shapes: ((256, 19), (256, 19)), types: (tf.int32, tf.int32)>"
      ]
     },
     "execution_count": 89,
     "metadata": {},
     "output_type": "execute_result"
    }
   ],
   "source": [
    "BUFFER_SIZE = len(src_input)\n",
    "BATCH_SIZE = 256\n",
    "steps_per_epoch = len(src_input) // BATCH_SIZE\n",
    "\n",
    " # tokenizer가 구축한 단어사전 내 7000개와, 여기 포함되지 않은 0:<pad>를 포함하여 7001개\n",
    "VOCAB_SIZE = tokenizer.num_words + 1   \n",
    "\n",
    "# 준비한 데이터 소스로부터 데이터셋을 만듭니다\n",
    "# 데이터셋에 대해서는 아래 문서를 참고하세요\n",
    "# 자세히 알아둘수록 도움이 많이 되는 중요한 문서입니다\n",
    "# https://www.tensorflow.org/api_docs/python/tf/data/Dataset\n",
    "dataset = tf.data.Dataset.from_tensor_slices((enc_train, dec_train))\n",
    "dataset = dataset.shuffle(BUFFER_SIZE)\n",
    "dataset = dataset.batch(BATCH_SIZE, drop_remainder=True)\n",
    "dataset"
   ]
  },
  {
   "cell_type": "code",
   "execution_count": 90,
   "id": "66acb3df",
   "metadata": {},
   "outputs": [
    {
     "data": {
      "text/plain": [
       "<tf.Tensor: shape=(256, 19, 18001), dtype=float32, numpy=\n",
       "array([[[  1.3036066 ,  -8.853216  ,  -9.087038  , ...,  -9.108093  ,\n",
       "          -9.155725  ,  -8.931289  ],\n",
       "        [  3.013279  , -13.087436  , -13.172214  , ..., -13.34543   ,\n",
       "         -13.271196  , -13.118526  ],\n",
       "        [ 13.912555  , -21.731083  , -21.962103  , ..., -22.054375  ,\n",
       "         -22.058767  , -22.002867  ],\n",
       "        ...,\n",
       "        [ 16.668236  , -23.727633  , -23.90971   , ..., -24.120771  ,\n",
       "         -23.935247  , -24.091442  ],\n",
       "        [ 16.668932  , -23.729017  , -23.91083   , ..., -24.122227  ,\n",
       "         -23.936693  , -24.093155  ],\n",
       "        [ 16.669516  , -23.730263  , -23.911837  , ..., -24.123562  ,\n",
       "         -23.937983  , -24.094748  ]],\n",
       "\n",
       "       [[  1.3036066 ,  -8.853216  ,  -9.087038  , ...,  -9.108093  ,\n",
       "          -9.155725  ,  -8.931289  ],\n",
       "        [ -1.1286628 ,  -8.972323  ,  -9.068763  , ...,  -9.055562  ,\n",
       "          -9.043739  ,  -8.944218  ],\n",
       "        [ -0.82287496, -10.118118  , -10.241926  , ..., -10.194226  ,\n",
       "         -10.255813  , -10.095224  ],\n",
       "        ...,\n",
       "        [ 16.750582  , -23.821033  , -24.03175   , ..., -24.248602  ,\n",
       "         -24.09656   , -24.29562   ],\n",
       "        [ 16.765657  , -23.83019   , -24.04074   , ..., -24.257793  ,\n",
       "         -24.104849  , -24.305367  ],\n",
       "        [ 16.775116  , -23.836737  , -24.047098  , ..., -24.264345  ,\n",
       "         -24.110802  , -24.31208   ]],\n",
       "\n",
       "       [[  1.3036066 ,  -8.853216  ,  -9.087038  , ...,  -9.108093  ,\n",
       "          -9.155725  ,  -8.931289  ],\n",
       "        [ -0.2975311 , -10.829216  , -11.062604  , ..., -11.048233  ,\n",
       "         -11.011346  , -10.772358  ],\n",
       "        [ -1.3024235 ,  -9.694351  ,  -9.892928  , ...,  -9.882141  ,\n",
       "          -9.819206  ,  -9.690344  ],\n",
       "        ...,\n",
       "        [ 16.719341  , -23.757784  , -23.955685  , ..., -24.14348   ,\n",
       "         -23.993992  , -24.165007  ],\n",
       "        [ 16.719343  , -23.759329  , -23.95707   , ..., -24.145378  ,\n",
       "         -23.995224  , -24.166721  ],\n",
       "        [ 16.71925   , -23.760746  , -23.95835   , ..., -24.147116  ,\n",
       "         -23.996332  , -24.168291  ]],\n",
       "\n",
       "       ...,\n",
       "\n",
       "       [[  1.3036066 ,  -8.853216  ,  -9.087038  , ...,  -9.108093  ,\n",
       "          -9.155725  ,  -8.931289  ],\n",
       "        [  0.98130435, -12.336659  , -12.532635  , ..., -12.630097  ,\n",
       "         -12.4930935 , -12.300769  ],\n",
       "        [  4.8259797 , -16.527477  , -16.936075  , ..., -16.946938  ,\n",
       "         -17.177624  , -16.743013  ],\n",
       "        ...,\n",
       "        [ 16.669132  , -23.752102  , -23.931328  , ..., -24.14466   ,\n",
       "         -23.956676  , -24.116648  ],\n",
       "        [ 16.670263  , -23.752949  , -23.93195   , ..., -24.145641  ,\n",
       "         -23.957554  , -24.11783   ],\n",
       "        [ 16.67112   , -23.753733  , -23.932573  , ..., -24.146612  ,\n",
       "         -23.958363  , -24.119007  ]],\n",
       "\n",
       "       [[  1.3036066 ,  -8.853216  ,  -9.087038  , ...,  -9.108093  ,\n",
       "          -9.155725  ,  -8.931289  ],\n",
       "        [ -0.20186375, -10.134738  , -10.296969  , ..., -10.288825  ,\n",
       "         -10.261143  , -10.064367  ],\n",
       "        [ -1.2026218 ,  -9.49611   ,  -9.681068  , ...,  -9.6734085 ,\n",
       "          -9.614604  ,  -9.478551  ],\n",
       "        ...,\n",
       "        [ 16.772627  , -23.821262  , -24.037407  , ..., -24.25618   ,\n",
       "         -24.092817  , -24.301731  ],\n",
       "        [ 16.773151  , -23.82283   , -24.038876  , ..., -24.257944  ,\n",
       "         -24.094133  , -24.303318  ],\n",
       "        [ 16.773281  , -23.824043  , -24.039976  , ..., -24.259361  ,\n",
       "         -24.095127  , -24.30452   ]],\n",
       "\n",
       "       [[  1.3036066 ,  -8.853216  ,  -9.087038  , ...,  -9.108093  ,\n",
       "          -9.155725  ,  -8.931289  ],\n",
       "        [  6.1961517 , -16.236238  , -16.537558  , ..., -16.609379  ,\n",
       "         -16.75335   , -16.430279  ],\n",
       "        [  1.4573361 , -12.154761  , -12.305962  , ..., -12.501496  ,\n",
       "         -12.374154  , -12.069574  ],\n",
       "        ...,\n",
       "        [ 16.777609  , -23.835335  , -24.041021  , ..., -24.26171   ,\n",
       "         -24.104174  , -24.302866  ],\n",
       "        [ 16.778439  , -23.837032  , -24.042612  , ..., -24.263445  ,\n",
       "         -24.10559   , -24.304388  ],\n",
       "        [ 16.778526  , -23.838188  , -24.043667  , ..., -24.264654  ,\n",
       "         -24.106487  , -24.305363  ]]], dtype=float32)>"
      ]
     },
     "execution_count": 90,
     "metadata": {},
     "output_type": "execute_result"
    }
   ],
   "source": [
    "for src_sample, tgt_sample in dataset.take(1): break\n",
    "\n",
    "# 한 배치만 불러온 데이터를 모델에 넣어봅니다\n",
    "model(src_sample)"
   ]
  },
  {
   "cell_type": "code",
   "execution_count": 91,
   "id": "085962a3",
   "metadata": {},
   "outputs": [],
   "source": [
    "embedding_size = 256\n",
    "hidden_size = 1024\n",
    "model = TextGenerator(tokenizer.num_words + 1, embedding_size , hidden_size)"
   ]
  },
  {
   "cell_type": "code",
   "execution_count": null,
   "id": "93f2904d",
   "metadata": {},
   "outputs": [],
   "source": [
    "model(enc_train)"
   ]
  },
  {
   "cell_type": "code",
   "execution_count": 95,
   "id": "2b20ae64",
   "metadata": {},
   "outputs": [
    {
     "name": "stdout",
     "output_type": "stream",
     "text": [
      "Model: \"text_generator_8\"\n",
      "_________________________________________________________________\n",
      "Layer (type)                 Output Shape              Param #   \n",
      "=================================================================\n",
      "embedding_8 (Embedding)      multiple                  4608256   \n",
      "_________________________________________________________________\n",
      "lstm_16 (LSTM)               multiple                  5246976   \n",
      "_________________________________________________________________\n",
      "lstm_17 (LSTM)               multiple                  0 (unused)\n",
      "_________________________________________________________________\n",
      "dense_8 (Dense)              multiple                  0 (unused)\n",
      "=================================================================\n",
      "Total params: 9,855,232\n",
      "Trainable params: 9,855,232\n",
      "Non-trainable params: 0\n",
      "_________________________________________________________________\n"
     ]
    }
   ],
   "source": [
    "model.summary()"
   ]
  },
  {
   "cell_type": "code",
   "execution_count": 96,
   "id": "63eb1c01",
   "metadata": {},
   "outputs": [
    {
     "name": "stdout",
     "output_type": "stream",
     "text": [
      "Epoch 1/30\n",
      "227/227 [==============================] - 71s 300ms/step - loss: 2.1396\n",
      "Epoch 2/30\n",
      "227/227 [==============================] - 68s 299ms/step - loss: 1.6419\n",
      "Epoch 3/30\n",
      "227/227 [==============================] - 68s 297ms/step - loss: 1.5426\n",
      "Epoch 4/30\n",
      "227/227 [==============================] - 68s 298ms/step - loss: 1.4662\n",
      "Epoch 5/30\n",
      "227/227 [==============================] - 67s 296ms/step - loss: 1.4040\n",
      "Epoch 6/30\n",
      "227/227 [==============================] - 67s 296ms/step - loss: 1.3497\n",
      "Epoch 7/30\n",
      "227/227 [==============================] - 68s 298ms/step - loss: 1.2996\n",
      "Epoch 8/30\n",
      "227/227 [==============================] - 68s 299ms/step - loss: 1.2533\n",
      "Epoch 9/30\n",
      "227/227 [==============================] - 68s 299ms/step - loss: 1.2092\n",
      "Epoch 10/30\n",
      "227/227 [==============================] - 68s 299ms/step - loss: 1.1682\n",
      "Epoch 11/30\n",
      "227/227 [==============================] - 68s 298ms/step - loss: 1.1290\n",
      "Epoch 12/30\n",
      "227/227 [==============================] - 68s 298ms/step - loss: 1.0923\n",
      "Epoch 13/30\n",
      "227/227 [==============================] - 68s 298ms/step - loss: 1.0582\n",
      "Epoch 14/30\n",
      "227/227 [==============================] - 68s 298ms/step - loss: 1.0265\n",
      "Epoch 15/30\n",
      "227/227 [==============================] - 67s 297ms/step - loss: 0.9965\n",
      "Epoch 16/30\n",
      "227/227 [==============================] - 67s 296ms/step - loss: 0.9686\n",
      "Epoch 17/30\n",
      "227/227 [==============================] - 67s 297ms/step - loss: 0.9424\n",
      "Epoch 18/30\n",
      "227/227 [==============================] - 68s 297ms/step - loss: 0.9181\n",
      "Epoch 19/30\n",
      "227/227 [==============================] - 68s 298ms/step - loss: 0.8950\n",
      "Epoch 20/30\n",
      "227/227 [==============================] - 68s 298ms/step - loss: 0.8730\n",
      "Epoch 21/30\n",
      "227/227 [==============================] - 68s 299ms/step - loss: 0.8524\n",
      "Epoch 22/30\n",
      "227/227 [==============================] - 68s 299ms/step - loss: 0.8327\n",
      "Epoch 23/30\n",
      "227/227 [==============================] - 68s 298ms/step - loss: 0.8146\n",
      "Epoch 24/30\n",
      "227/227 [==============================] - 68s 298ms/step - loss: 0.7966\n",
      "Epoch 25/30\n",
      "227/227 [==============================] - 68s 298ms/step - loss: 0.7802\n",
      "Epoch 26/30\n",
      "227/227 [==============================] - 68s 298ms/step - loss: 0.7641\n",
      "Epoch 27/30\n",
      "227/227 [==============================] - 68s 297ms/step - loss: 0.7489\n",
      "Epoch 28/30\n",
      "227/227 [==============================] - 68s 297ms/step - loss: 0.7348\n",
      "Epoch 29/30\n",
      "227/227 [==============================] - 68s 299ms/step - loss: 0.7216\n",
      "Epoch 30/30\n",
      "227/227 [==============================] - 68s 300ms/step - loss: 0.7092\n"
     ]
    },
    {
     "data": {
      "text/plain": [
       "<keras.callbacks.History at 0x7fbbc8aa0730>"
      ]
     },
     "execution_count": 96,
     "metadata": {},
     "output_type": "execute_result"
    }
   ],
   "source": [
    "optimizer = tf.keras.optimizers.Adam()\n",
    "loss = tf.keras.losses.SparseCategoricalCrossentropy(\n",
    "    from_logits=True,\n",
    "    reduction='none'\n",
    ")\n",
    "\n",
    "model.compile(loss=loss, optimizer=optimizer)\n",
    "model.fit(dataset, epochs=30)"
   ]
  },
  {
   "cell_type": "code",
   "execution_count": 104,
   "id": "df6c144f",
   "metadata": {},
   "outputs": [
    {
     "data": {
      "text/plain": [
       "'<start> i love you <end> '"
      ]
     },
     "execution_count": 104,
     "metadata": {},
     "output_type": "execute_result"
    }
   ],
   "source": [
    "generate_text(model, tokenizer, init_sentence=\"<start> i love\", max_len=150)"
   ]
  },
  {
   "cell_type": "code",
   "execution_count": null,
   "id": "b041abe0",
   "metadata": {},
   "outputs": [],
   "source": []
  }
 ],
 "metadata": {
  "kernelspec": {
   "display_name": "Python 3 (ipykernel)",
   "language": "python",
   "name": "python3"
  },
  "language_info": {
   "codemirror_mode": {
    "name": "ipython",
    "version": 3
   },
   "file_extension": ".py",
   "mimetype": "text/x-python",
   "name": "python",
   "nbconvert_exporter": "python",
   "pygments_lexer": "ipython3",
   "version": "3.9.7"
  }
 },
 "nbformat": 4,
 "nbformat_minor": 5
}
