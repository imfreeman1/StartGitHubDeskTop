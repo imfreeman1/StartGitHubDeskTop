{
 "cells": [
  {
   "cell_type": "markdown",
   "id": "37b965c4",
   "metadata": {},
   "source": [
    "#1. 인공지능과 가위바위보 하기"
   ]
  },
  {
   "cell_type": "code",
   "execution_count": null,
   "id": "c809ac22",
   "metadata": {},
   "outputs": [],
   "source": [
    "from PIL import Image\n",
    "import glob\n",
    "import tensorflow as tf\n",
    "from tensorflow import keras\n",
    "import numpy as np\n",
    "import os\n",
    "import matplotlib.pyplot as plt"
   ]
  },
  {
   "cell_type": "code",
   "execution_count": 7,
   "id": "c73354cf",
   "metadata": {},
   "outputs": [
    {
     "name": "stdout",
     "output_type": "stream",
     "text": [
      "100  images to be resized.\n",
      "100  images resized.\n",
      "100  images to be resized.\n",
      "100  images resized.\n",
      "100  images to be resized.\n",
      "100  images resized.\n",
      "100  images to be resized.\n",
      "100  images resized.\n",
      "100  images to be resized.\n",
      "100  images resized.\n",
      "138  images to be resized.\n",
      "138  images resized.\n",
      "모든 이미지 resize 완료!\n"
     ]
    }
   ],
   "source": [
    "def resize_images(img_path):\n",
    "\timages=glob.glob(img_path + \"/*.jpg\")  \n",
    "    \n",
    "\tprint(len(images), \" images to be resized.\")\n",
    "\n",
    "\n",
    "\ttarget_size=(28,28)\n",
    "\tfor img in images:\n",
    "\t\told_img=Image.open(img)\n",
    "\t\tnew_img=old_img.resize(target_size,Image.ANTIALIAS)\n",
    "\t\tnew_img.save(img, \"JPEG\")\n",
    "    \n",
    "\tprint(len(images), \" images resized.\")\n",
    "\t\n",
    "image_dir_path = os.getenv(\"HOME\") + \"/aiffel/rock_scissor_paper/scissor\"\n",
    "image_test_dir_path = os.getenv(\"HOME\") + \"/aiffel/rock_scissor_paper/test/scissor\"\n",
    "resize_images(image_dir_path)\n",
    "resize_images(image_test_dir_path)\n",
    "\n",
    "image_dir_path = os.getenv(\"HOME\") + \"/aiffel/rock_scissor_paper/rock\"\n",
    "image_test_dir_path = os.getenv(\"HOME\") + \"/aiffel/rock_scissor_paper/test/rock\"\n",
    "resize_images(image_dir_path)\n",
    "resize_images(image_test_dir_path)\n",
    "\n",
    "image_dir_path = os.getenv(\"HOME\") + \"/aiffel/rock_scissor_paper/paper\"\n",
    "image_test_dir_path = os.getenv(\"HOME\") + \"/aiffel/rock_scissor_paper/test/paper\"\n",
    "resize_images(image_dir_path)\n",
    "resize_images(image_test_dir_path)\n",
    "\n",
    "print(\"모든 이미지 resize 완료!\") # 이미지 resize를 했다.\n"
   ]
  },
  {
   "cell_type": "code",
   "execution_count": 16,
   "id": "a0125d99",
   "metadata": {},
   "outputs": [
    {
     "name": "stdout",
     "output_type": "stream",
     "text": [
      "학습데이터(x_train)의 이미지 개수는 300 입니다.\n",
      "학습데이터(x_train)의 이미지 개수는 338 입니다.\n"
     ]
    }
   ],
   "source": [
    "def load_data(img_path, number_of_data):  # 가위바위보 이미지 개수 총합에 주의하세요.\n",
    "    # 가위 : 0, 바위 : 1, 보 : 2\n",
    "    img_size=28\n",
    "    color=3\n",
    "    #이미지 데이터와 라벨(가위 : 0, 바위 : 1, 보 : 2) 데이터를 담을 행렬(matrix) 영역을 생성합니다.\n",
    "    imgs=np.zeros(number_of_data*img_size*img_size*color,dtype=np.int32).reshape(number_of_data,img_size,img_size,color)\n",
    "    labels=np.zeros(number_of_data,dtype=np.int32)\n",
    "\n",
    "    idx=0\n",
    "    for file in glob.iglob(img_path+'/scissor/*.jpg'):\n",
    "        img = np.array(Image.open(file),dtype=np.int32)\n",
    "        imgs[idx,:,:,:]=img    # 데이터 영역에 이미지 행렬을 복사\n",
    "        labels[idx]=0   # 가위 : 0\n",
    "        idx=idx+1\n",
    "\n",
    "    for file in glob.iglob(img_path+'/rock/*.jpg'):\n",
    "        img = np.array(Image.open(file),dtype=np.int32)\n",
    "        imgs[idx,:,:,:]=img    # 데이터 영역에 이미지 행렬을 복사\n",
    "        labels[idx]=1   # 바위 : 1\n",
    "        idx=idx+1  \n",
    "    \n",
    "    for file in glob.iglob(img_path+'/paper/*.jpg'):\n",
    "        img = np.array(Image.open(file),dtype=np.int32)\n",
    "        imgs[idx,:,:,:]=img    # 데이터 영역에 이미지 행렬을 복사\n",
    "        labels[idx]=2   # 보 : 2\n",
    "        idx=idx+1\n",
    "        \n",
    "    print(\"학습데이터(x_train)의 이미지 개수는\", idx,\"입니다.\")\n",
    "    return imgs, labels\n",
    "\n",
    "image_dir_path = os.getenv(\"HOME\") + \"/aiffel/rock_scissor_paper\"\n",
    "(x_train, y_train)=load_data(image_dir_path,300)\n",
    "x_train_norm = x_train/255.0   # 입력은 0~1 사이의 값으로 정규화\n",
    "x_train_reshaped = x_train_norm.reshape(-1,28,28,3)\n",
    "image_test_dir_path = os.getenv(\"HOME\") + \"/aiffel/rock_scissor_paper/test\"\n",
    "(x_test, y_test)=load_data(image_test_dir_path,338)\n",
    "\n",
    "x_test_norm = x_test/255.0   # 입력은 0~1 사이의 값으로 정규화\n",
    "x_test_reshaped=x_test_norm.reshape( -1, 28, 28, 3)"
   ]
  },
  {
   "cell_type": "code",
   "execution_count": 12,
   "id": "308706c6",
   "metadata": {},
   "outputs": [
    {
     "name": "stdout",
     "output_type": "stream",
     "text": [
      "라벨:  0\n"
     ]
    },
    {
     "data": {
      "image/png": "[encoded data removed]",
      "text/plain": [
       "<Figure size 432x288 with 1 Axes>"
      ]
     },
     "metadata": {
      "needs_background": "light"
     },
     "output_type": "display_data"
    }
   ],
   "source": [
    "plt.imshow(x_train[0])\n",
    "print('라벨: ', y_train[0])"
   ]
  },
  {
   "cell_type": "code",
   "execution_count": 17,
   "id": "63aa9517",
   "metadata": {},
   "outputs": [
    {
     "name": "stdout",
     "output_type": "stream",
     "text": [
      "x_train shape: (300, 28, 28, 3)\n",
      "y_train shape: (300,)\n",
      "x_test shape: (338, 28, 28, 3)\n",
      "y_test shape: (338,)\n"
     ]
    }
   ],
   "source": [
    "print(\"x_train shape: {}\".format(x_train.shape))\n",
    "print(\"y_train shape: {}\".format(y_train.shape))\n",
    "\n",
    "\n",
    "print(\"x_test shape: {}\".format(x_test.shape))\n",
    "print(\"y_test shape: {}\".format(y_test.shape))"
   ]
  },
  {
   "cell_type": "code",
   "execution_count": 21,
   "id": "640c507f",
   "metadata": {},
   "outputs": [
    {
     "name": "stdout",
     "output_type": "stream",
     "text": [
      "Model: \"sequential_1\"\n",
      "_________________________________________________________________\n",
      "Layer (type)                 Output Shape              Param #   \n",
      "=================================================================\n",
      "conv2d_2 (Conv2D)            (None, 26, 26, 16)        448       \n",
      "_________________________________________________________________\n",
      "max_pooling2d_2 (MaxPooling2 (None, 13, 13, 16)        0         \n",
      "_________________________________________________________________\n",
      "conv2d_3 (Conv2D)            (None, 11, 11, 32)        4640      \n",
      "_________________________________________________________________\n",
      "max_pooling2d_3 (MaxPooling2 (None, 5, 5, 32)          0         \n",
      "_________________________________________________________________\n",
      "flatten_1 (Flatten)          (None, 800)               0         \n",
      "_________________________________________________________________\n",
      "dense_2 (Dense)              (None, 32)                25632     \n",
      "_________________________________________________________________\n",
      "dense_3 (Dense)              (None, 3)                 99        \n",
      "=================================================================\n",
      "Total params: 30,819\n",
      "Trainable params: 30,819\n",
      "Non-trainable params: 0\n",
      "_________________________________________________________________\n",
      "Epoch 1/50\n",
      "10/10 [==============================] - 0s 3ms/step - loss: 1.1053 - accuracy: 0.3500\n",
      "Epoch 2/50\n",
      "10/10 [==============================] - 0s 3ms/step - loss: 1.0967 - accuracy: 0.3900\n",
      "Epoch 3/50\n",
      "10/10 [==============================] - 0s 3ms/step - loss: 1.0854 - accuracy: 0.5533\n",
      "Epoch 4/50\n",
      "10/10 [==============================] - 0s 3ms/step - loss: 1.0766 - accuracy: 0.5267\n",
      "Epoch 5/50\n",
      "10/10 [==============================] - 0s 3ms/step - loss: 1.0626 - accuracy: 0.6233\n",
      "Epoch 6/50\n",
      "10/10 [==============================] - 0s 3ms/step - loss: 1.0512 - accuracy: 0.5767\n",
      "Epoch 7/50\n",
      "10/10 [==============================] - 0s 3ms/step - loss: 1.0157 - accuracy: 0.5667\n",
      "Epoch 8/50\n",
      "10/10 [==============================] - 0s 3ms/step - loss: 1.0205 - accuracy: 0.5200\n",
      "Epoch 9/50\n",
      "10/10 [==============================] - 0s 3ms/step - loss: 0.9782 - accuracy: 0.5333\n",
      "Epoch 10/50\n",
      "10/10 [==============================] - 0s 3ms/step - loss: 0.9379 - accuracy: 0.6633\n",
      "Epoch 11/50\n",
      "10/10 [==============================] - 0s 3ms/step - loss: 0.8859 - accuracy: 0.6633\n",
      "Epoch 12/50\n",
      "10/10 [==============================] - 0s 3ms/step - loss: 0.8113 - accuracy: 0.7933\n",
      "Epoch 13/50\n",
      "10/10 [==============================] - 0s 3ms/step - loss: 0.7417 - accuracy: 0.7567\n",
      "Epoch 14/50\n",
      "10/10 [==============================] - 0s 3ms/step - loss: 0.6668 - accuracy: 0.8000\n",
      "Epoch 15/50\n",
      "10/10 [==============================] - 0s 3ms/step - loss: 0.6094 - accuracy: 0.8500\n",
      "Epoch 16/50\n",
      "10/10 [==============================] - 0s 3ms/step - loss: 0.5454 - accuracy: 0.8533\n",
      "Epoch 17/50\n",
      "10/10 [==============================] - 0s 3ms/step - loss: 0.5064 - accuracy: 0.8533\n",
      "Epoch 18/50\n",
      "10/10 [==============================] - 0s 3ms/step - loss: 0.4763 - accuracy: 0.8633\n",
      "Epoch 19/50\n",
      "10/10 [==============================] - 0s 3ms/step - loss: 0.4234 - accuracy: 0.8833\n",
      "Epoch 20/50\n",
      "10/10 [==============================] - 0s 3ms/step - loss: 0.3848 - accuracy: 0.8767\n",
      "Epoch 21/50\n",
      "10/10 [==============================] - 0s 3ms/step - loss: 0.3761 - accuracy: 0.8833\n",
      "Epoch 22/50\n",
      "10/10 [==============================] - 0s 3ms/step - loss: 0.3252 - accuracy: 0.9033\n",
      "Epoch 23/50\n",
      "10/10 [==============================] - 0s 3ms/step - loss: 0.3154 - accuracy: 0.9233\n",
      "Epoch 24/50\n",
      "10/10 [==============================] - 0s 3ms/step - loss: 0.2830 - accuracy: 0.9067\n",
      "Epoch 25/50\n",
      "10/10 [==============================] - 0s 3ms/step - loss: 0.2630 - accuracy: 0.9367\n",
      "Epoch 26/50\n",
      "10/10 [==============================] - 0s 3ms/step - loss: 0.2453 - accuracy: 0.9500\n",
      "Epoch 27/50\n",
      "10/10 [==============================] - 0s 3ms/step - loss: 0.2358 - accuracy: 0.9400\n",
      "Epoch 28/50\n",
      "10/10 [==============================] - 0s 3ms/step - loss: 0.2070 - accuracy: 0.9500\n",
      "Epoch 29/50\n",
      "10/10 [==============================] - 0s 3ms/step - loss: 0.1991 - accuracy: 0.9467\n",
      "Epoch 30/50\n",
      "10/10 [==============================] - 0s 3ms/step - loss: 0.1889 - accuracy: 0.9500\n",
      "Epoch 31/50\n",
      "10/10 [==============================] - 0s 3ms/step - loss: 0.1914 - accuracy: 0.9500\n",
      "Epoch 32/50\n",
      "10/10 [==============================] - 0s 3ms/step - loss: 0.1625 - accuracy: 0.9600\n",
      "Epoch 33/50\n",
      "10/10 [==============================] - 0s 3ms/step - loss: 0.1698 - accuracy: 0.9533\n",
      "Epoch 34/50\n",
      "10/10 [==============================] - 0s 3ms/step - loss: 0.1394 - accuracy: 0.9633\n",
      "Epoch 35/50\n",
      "10/10 [==============================] - 0s 3ms/step - loss: 0.1361 - accuracy: 0.9633\n",
      "Epoch 36/50\n",
      "10/10 [==============================] - 0s 3ms/step - loss: 0.1178 - accuracy: 0.9700\n",
      "Epoch 37/50\n",
      "10/10 [==============================] - 0s 3ms/step - loss: 0.1142 - accuracy: 0.9633\n",
      "Epoch 38/50\n",
      "10/10 [==============================] - 0s 3ms/step - loss: 0.1042 - accuracy: 0.9700\n",
      "Epoch 39/50\n",
      "10/10 [==============================] - 0s 3ms/step - loss: 0.0924 - accuracy: 0.9767\n",
      "Epoch 40/50\n",
      "10/10 [==============================] - 0s 3ms/step - loss: 0.0900 - accuracy: 0.9767\n",
      "Epoch 41/50\n",
      "10/10 [==============================] - 0s 3ms/step - loss: 0.0828 - accuracy: 0.9700\n",
      "Epoch 42/50\n",
      "10/10 [==============================] - 0s 3ms/step - loss: 0.0764 - accuracy: 0.9767\n",
      "Epoch 43/50\n",
      "10/10 [==============================] - 0s 3ms/step - loss: 0.0717 - accuracy: 0.9767\n",
      "Epoch 44/50\n",
      "10/10 [==============================] - 0s 3ms/step - loss: 0.0683 - accuracy: 0.9867\n",
      "Epoch 45/50\n",
      "10/10 [==============================] - 0s 3ms/step - loss: 0.0649 - accuracy: 0.9833\n",
      "Epoch 46/50\n",
      "10/10 [==============================] - 0s 3ms/step - loss: 0.0711 - accuracy: 0.9867\n",
      "Epoch 47/50\n",
      "10/10 [==============================] - 0s 3ms/step - loss: 0.0632 - accuracy: 0.9833\n",
      "Epoch 48/50\n",
      "10/10 [==============================] - 0s 3ms/step - loss: 0.0620 - accuracy: 0.9867\n",
      "Epoch 49/50\n",
      "10/10 [==============================] - 0s 3ms/step - loss: 0.0609 - accuracy: 0.9833\n",
      "Epoch 50/50\n",
      "10/10 [==============================] - 0s 3ms/step - loss: 0.0500 - accuracy: 0.9933\n",
      "11/11 - 0s - loss: 4.2314 - accuracy: 0.3905\n",
      "test_loss: 4.231400012969971 \n",
      "test_accuracy: 0.39053255319595337\n"
     ]
    }
   ],
   "source": [
    "n_channel_1=16\n",
    "n_channel_2=32\n",
    "n_dense=32\n",
    "n_train_epoch=50\n",
    "\n",
    "model=keras.models.Sequential()\n",
    "model.add(keras.layers.Conv2D(n_channel_1, (3,3), activation='relu', input_shape=(28,28,3)))\n",
    "model.add(keras.layers.MaxPool2D(2,2))\n",
    "model.add(keras.layers.Conv2D(n_channel_2, (3,3), activation='relu'))\n",
    "model.add(keras.layers.MaxPooling2D((2,2)))\n",
    "model.add(keras.layers.Flatten())\n",
    "model.add(keras.layers.Dense(n_dense, activation='relu'))\n",
    "model.add(keras.layers.Dense(3, activation='softmax'))\n",
    "\n",
    "model.summary()\n",
    "\n",
    "\n",
    "model.compile(optimizer='adam',\n",
    "             loss='sparse_categorical_crossentropy',\n",
    "             metrics=['accuracy'])\n",
    "\n",
    "model.fit(x_train_reshaped, y_train, epochs=n_train_epoch)\n",
    "\n",
    "test_loss, test_accuracy = model.evaluate(x_test_norm, y_test, verbose=2)\n",
    "print(\"test_loss: {} \".format(test_loss))\n",
    "print(\"test_accuracy: {}\".format(test_accuracy))"
   ]
  }
 ],
 "metadata": {
  "kernelspec": {
   "display_name": "Python 3 (ipykernel)",
   "language": "python",
   "name": "python3"
  },
  "language_info": {
   "codemirror_mode": {
    "name": "ipython",
    "version": 3
   },
   "file_extension": ".py",
   "mimetype": "text/x-python",
   "name": "python",
   "nbconvert_exporter": "python",
   "pygments_lexer": "ipython3",
   "version": "3.9.7"
  }
 },
 "nbformat": 4,
 "nbformat_minor": 5
}
